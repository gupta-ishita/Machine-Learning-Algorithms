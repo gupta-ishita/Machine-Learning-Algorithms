{
  "nbformat": 4,
  "nbformat_minor": 0,
  "metadata": {
    "colab": {
      "name": "Binary Classification.ipynb",
      "provenance": [],
      "collapsed_sections": [],
      "authorship_tag": "ABX9TyNyic5frZzkNnqFXb43ho83"
    },
    "kernelspec": {
      "name": "python3",
      "display_name": "Python 3"
    },
    "language_info": {
      "name": "python"
    }
  },
  "cells": [
    {
      "cell_type": "code",
      "metadata": {
        "id": "8asMiXnG7n0V"
      },
      "source": [
        "import numpy as np\n",
        "import pandas as pd\n",
        "import matplotlib.pyplot as plt"
      ],
      "execution_count": 1,
      "outputs": []
    },
    {
      "cell_type": "code",
      "metadata": {
        "id": "kkvUoa8V703r"
      },
      "source": [
        "data = pd.read_csv(\"https://raw.githubusercontent.com/dphi-official/Datasets/master/heart_disease.csv\")"
      ],
      "execution_count": 2,
      "outputs": []
    },
    {
      "cell_type": "code",
      "metadata": {
        "colab": {
          "base_uri": "https://localhost:8080/",
          "height": 204
        },
        "id": "YmP32G8n73iF",
        "outputId": "121f92fa-13a8-49d5-9578-13e9e4c24cc3"
      },
      "source": [
        "data.head()"
      ],
      "execution_count": 3,
      "outputs": [
        {
          "output_type": "execute_result",
          "data": {
            "text/html": [
              "<div>\n",
              "<style scoped>\n",
              "    .dataframe tbody tr th:only-of-type {\n",
              "        vertical-align: middle;\n",
              "    }\n",
              "\n",
              "    .dataframe tbody tr th {\n",
              "        vertical-align: top;\n",
              "    }\n",
              "\n",
              "    .dataframe thead th {\n",
              "        text-align: right;\n",
              "    }\n",
              "</style>\n",
              "<table border=\"1\" class=\"dataframe\">\n",
              "  <thead>\n",
              "    <tr style=\"text-align: right;\">\n",
              "      <th></th>\n",
              "      <th>age</th>\n",
              "      <th>sex</th>\n",
              "      <th>cp</th>\n",
              "      <th>trestbps</th>\n",
              "      <th>chol</th>\n",
              "      <th>fbs</th>\n",
              "      <th>restecg</th>\n",
              "      <th>thalach</th>\n",
              "      <th>exang</th>\n",
              "      <th>oldpeak</th>\n",
              "      <th>slope</th>\n",
              "      <th>ca</th>\n",
              "      <th>thal</th>\n",
              "      <th>target</th>\n",
              "    </tr>\n",
              "  </thead>\n",
              "  <tbody>\n",
              "    <tr>\n",
              "      <th>0</th>\n",
              "      <td>63</td>\n",
              "      <td>1</td>\n",
              "      <td>3</td>\n",
              "      <td>145</td>\n",
              "      <td>233</td>\n",
              "      <td>1</td>\n",
              "      <td>0</td>\n",
              "      <td>150</td>\n",
              "      <td>0</td>\n",
              "      <td>2.3</td>\n",
              "      <td>0</td>\n",
              "      <td>0</td>\n",
              "      <td>1</td>\n",
              "      <td>1</td>\n",
              "    </tr>\n",
              "    <tr>\n",
              "      <th>1</th>\n",
              "      <td>37</td>\n",
              "      <td>1</td>\n",
              "      <td>2</td>\n",
              "      <td>130</td>\n",
              "      <td>250</td>\n",
              "      <td>0</td>\n",
              "      <td>1</td>\n",
              "      <td>187</td>\n",
              "      <td>0</td>\n",
              "      <td>3.5</td>\n",
              "      <td>0</td>\n",
              "      <td>0</td>\n",
              "      <td>2</td>\n",
              "      <td>1</td>\n",
              "    </tr>\n",
              "    <tr>\n",
              "      <th>2</th>\n",
              "      <td>41</td>\n",
              "      <td>0</td>\n",
              "      <td>1</td>\n",
              "      <td>130</td>\n",
              "      <td>204</td>\n",
              "      <td>0</td>\n",
              "      <td>0</td>\n",
              "      <td>172</td>\n",
              "      <td>0</td>\n",
              "      <td>1.4</td>\n",
              "      <td>2</td>\n",
              "      <td>0</td>\n",
              "      <td>2</td>\n",
              "      <td>1</td>\n",
              "    </tr>\n",
              "    <tr>\n",
              "      <th>3</th>\n",
              "      <td>56</td>\n",
              "      <td>1</td>\n",
              "      <td>1</td>\n",
              "      <td>120</td>\n",
              "      <td>236</td>\n",
              "      <td>0</td>\n",
              "      <td>1</td>\n",
              "      <td>178</td>\n",
              "      <td>0</td>\n",
              "      <td>0.8</td>\n",
              "      <td>2</td>\n",
              "      <td>0</td>\n",
              "      <td>2</td>\n",
              "      <td>1</td>\n",
              "    </tr>\n",
              "    <tr>\n",
              "      <th>4</th>\n",
              "      <td>57</td>\n",
              "      <td>0</td>\n",
              "      <td>0</td>\n",
              "      <td>120</td>\n",
              "      <td>354</td>\n",
              "      <td>0</td>\n",
              "      <td>1</td>\n",
              "      <td>163</td>\n",
              "      <td>1</td>\n",
              "      <td>0.6</td>\n",
              "      <td>2</td>\n",
              "      <td>0</td>\n",
              "      <td>2</td>\n",
              "      <td>1</td>\n",
              "    </tr>\n",
              "  </tbody>\n",
              "</table>\n",
              "</div>"
            ],
            "text/plain": [
              "   age  sex  cp  trestbps  chol  fbs  ...  exang  oldpeak  slope  ca  thal  target\n",
              "0   63    1   3       145   233    1  ...      0      2.3      0   0     1       1\n",
              "1   37    1   2       130   250    0  ...      0      3.5      0   0     2       1\n",
              "2   41    0   1       130   204    0  ...      0      1.4      2   0     2       1\n",
              "3   56    1   1       120   236    0  ...      0      0.8      2   0     2       1\n",
              "4   57    0   0       120   354    0  ...      1      0.6      2   0     2       1\n",
              "\n",
              "[5 rows x 14 columns]"
            ]
          },
          "metadata": {
            "tags": []
          },
          "execution_count": 3
        }
      ]
    },
    {
      "cell_type": "code",
      "metadata": {
        "colab": {
          "base_uri": "https://localhost:8080/"
        },
        "id": "iY9ix4hq74k2",
        "outputId": "fd09b1aa-4615-4774-ba4a-62320e8e86f9"
      },
      "source": [
        "data.shape"
      ],
      "execution_count": 4,
      "outputs": [
        {
          "output_type": "execute_result",
          "data": {
            "text/plain": [
              "(303, 14)"
            ]
          },
          "metadata": {
            "tags": []
          },
          "execution_count": 4
        }
      ]
    },
    {
      "cell_type": "code",
      "metadata": {
        "id": "z9mclalO77NH"
      },
      "source": [
        "X = data.drop('target', axis=1) # Input Variable / Attributes\n",
        "Y = data['target'] # Output Variable / Label"
      ],
      "execution_count": 5,
      "outputs": []
    },
    {
      "cell_type": "code",
      "metadata": {
        "id": "9gsaaelb8SQv"
      },
      "source": [
        "# Split the data into test and train\n",
        "from sklearn.model_selection import train_test_split\n",
        "X_train, X_test, Y_train, Y_test = train_test_split(X, Y, test_size=0.2, random_state=2)"
      ],
      "execution_count": 6,
      "outputs": []
    },
    {
      "cell_type": "code",
      "metadata": {
        "colab": {
          "base_uri": "https://localhost:8080/"
        },
        "id": "oLmfbZ058x54",
        "outputId": "505d8d11-c915-4a41-bcc7-e3c5a1fea754"
      },
      "source": [
        "print(X.shape, X_train.shape, X_test.shape)"
      ],
      "execution_count": 7,
      "outputs": [
        {
          "output_type": "stream",
          "text": [
            "(303, 13) (242, 13) (61, 13)\n"
          ],
          "name": "stdout"
        }
      ]
    },
    {
      "cell_type": "code",
      "metadata": {
        "id": "e59QU6Lp83xT"
      },
      "source": [
        "import tensorflow as tf \n",
        "from tensorflow import keras\n",
        "from tensorflow.keras import Sequential\n",
        "from tensorflow.keras import layers\n",
        "from tensorflow.keras.layers import Dense"
      ],
      "execution_count": 8,
      "outputs": []
    },
    {
      "cell_type": "code",
      "metadata": {
        "id": "E6x2xVxi9FIn"
      },
      "source": [
        "# Define the model architecture\n",
        "model = Sequential()\n",
        "model.add(Dense(32, activation=\"relu\", input_shape=(X_train.shape[1],)))\n",
        "model.add(Dense(16, activation=\"relu\"))\n",
        "model.add(Dense(8, activation=\"relu\"))\n",
        "model.add(Dense(1, activation=\"sigmoid\"))"
      ],
      "execution_count": 9,
      "outputs": []
    },
    {
      "cell_type": "code",
      "metadata": {
        "id": "12ZjNTYA98fD"
      },
      "source": [
        "# Compiling the model\n",
        "from tensorflow.keras.optimizers import RMSprop\n",
        "optimizer = RMSprop(0.001) # Here, we have set our learning rate as 0.001\n",
        "model.compile(loss='binary_crossentropy', optimizer= optimizer , metrics=['accuracy'])"
      ],
      "execution_count": 10,
      "outputs": []
    },
    {
      "cell_type": "code",
      "metadata": {
        "colab": {
          "base_uri": "https://localhost:8080/"
        },
        "id": "iEEmTR69-Ad7",
        "outputId": "3f48d334-b8fb-4bf9-c998-aa6b96ac6eb6"
      },
      "source": [
        "# Print the summary of the model\n",
        "model.summary()"
      ],
      "execution_count": 11,
      "outputs": [
        {
          "output_type": "stream",
          "text": [
            "Model: \"sequential\"\n",
            "_________________________________________________________________\n",
            "Layer (type)                 Output Shape              Param #   \n",
            "=================================================================\n",
            "dense (Dense)                (None, 32)                448       \n",
            "_________________________________________________________________\n",
            "dense_1 (Dense)              (None, 16)                528       \n",
            "_________________________________________________________________\n",
            "dense_2 (Dense)              (None, 8)                 136       \n",
            "_________________________________________________________________\n",
            "dense_3 (Dense)              (None, 1)                 9         \n",
            "=================================================================\n",
            "Total params: 1,121\n",
            "Trainable params: 1,121\n",
            "Non-trainable params: 0\n",
            "_________________________________________________________________\n"
          ],
          "name": "stdout"
        }
      ]
    },
    {
      "cell_type": "code",
      "metadata": {
        "colab": {
          "base_uri": "https://localhost:8080/",
          "height": 466
        },
        "id": "BbVL42kn-Ewt",
        "outputId": "db9165ff-bdba-49c8-8ec7-60e5b441fdb9"
      },
      "source": [
        "# Plot the model\n",
        "from tensorflow.keras.utils import plot_model\n",
        "plot_model(model)"
      ],
      "execution_count": 12,
      "outputs": [
        {
          "output_type": "execute_result",
          "data": {
            "image/png": "[encoded data removed]",
            "text/plain": [
              "<IPython.core.display.Image object>"
            ]
          },
          "metadata": {
            "tags": []
          },
          "execution_count": 12
        }
      ]
    },
    {
      "cell_type": "code",
      "metadata": {
        "colab": {
          "base_uri": "https://localhost:8080/"
        },
        "id": "Q6iT96Ik-HYI",
        "outputId": "c0730b37-d499-4859-d819-560e70203ab2"
      },
      "source": [
        "# Train the model\n",
        "training = model.fit(X_train, Y_train, validation_split=0.2, epochs=100, batch_size=10, verbose=1)"
      ],
      "execution_count": 16,
      "outputs": [
        {
          "output_type": "stream",
          "text": [
            "Epoch 1/100\n",
            "20/20 [==============================] - 0s 5ms/step - loss: 0.4631 - accuracy: 0.7927 - val_loss: 0.6021 - val_accuracy: 0.7347\n",
            "Epoch 2/100\n",
            "20/20 [==============================] - 0s 3ms/step - loss: 0.4725 - accuracy: 0.7668 - val_loss: 0.4359 - val_accuracy: 0.8163\n",
            "Epoch 3/100\n",
            "20/20 [==============================] - 0s 4ms/step - loss: 0.4404 - accuracy: 0.7772 - val_loss: 0.3578 - val_accuracy: 0.8367\n",
            "Epoch 4/100\n",
            "20/20 [==============================] - 0s 2ms/step - loss: 0.4788 - accuracy: 0.7668 - val_loss: 0.4158 - val_accuracy: 0.8163\n",
            "Epoch 5/100\n",
            "20/20 [==============================] - 0s 3ms/step - loss: 0.4527 - accuracy: 0.7772 - val_loss: 0.6254 - val_accuracy: 0.7347\n",
            "Epoch 6/100\n",
            "20/20 [==============================] - 0s 3ms/step - loss: 0.4678 - accuracy: 0.7668 - val_loss: 0.3709 - val_accuracy: 0.8776\n",
            "Epoch 7/100\n",
            "20/20 [==============================] - 0s 3ms/step - loss: 0.4769 - accuracy: 0.7668 - val_loss: 0.8800 - val_accuracy: 0.6531\n",
            "Epoch 8/100\n",
            "20/20 [==============================] - 0s 3ms/step - loss: 0.4910 - accuracy: 0.7824 - val_loss: 0.4048 - val_accuracy: 0.8367\n",
            "Epoch 9/100\n",
            "20/20 [==============================] - 0s 3ms/step - loss: 0.4706 - accuracy: 0.7720 - val_loss: 0.5262 - val_accuracy: 0.7347\n",
            "Epoch 10/100\n",
            "20/20 [==============================] - 0s 3ms/step - loss: 0.4361 - accuracy: 0.7513 - val_loss: 0.3760 - val_accuracy: 0.8163\n",
            "Epoch 11/100\n",
            "20/20 [==============================] - 0s 3ms/step - loss: 0.4267 - accuracy: 0.8135 - val_loss: 0.5409 - val_accuracy: 0.7959\n",
            "Epoch 12/100\n",
            "20/20 [==============================] - 0s 3ms/step - loss: 0.4615 - accuracy: 0.8031 - val_loss: 0.5170 - val_accuracy: 0.7755\n",
            "Epoch 13/100\n",
            "20/20 [==============================] - 0s 3ms/step - loss: 0.4991 - accuracy: 0.7150 - val_loss: 0.4462 - val_accuracy: 0.7755\n",
            "Epoch 14/100\n",
            "20/20 [==============================] - 0s 3ms/step - loss: 0.4070 - accuracy: 0.7876 - val_loss: 0.4078 - val_accuracy: 0.8163\n",
            "Epoch 15/100\n",
            "20/20 [==============================] - 0s 3ms/step - loss: 0.4193 - accuracy: 0.7876 - val_loss: 0.7392 - val_accuracy: 0.6735\n",
            "Epoch 16/100\n",
            "20/20 [==============================] - 0s 4ms/step - loss: 0.4451 - accuracy: 0.7617 - val_loss: 0.3840 - val_accuracy: 0.7959\n",
            "Epoch 17/100\n",
            "20/20 [==============================] - 0s 5ms/step - loss: 0.4729 - accuracy: 0.7772 - val_loss: 0.5029 - val_accuracy: 0.7347\n",
            "Epoch 18/100\n",
            "20/20 [==============================] - 0s 3ms/step - loss: 0.4348 - accuracy: 0.7668 - val_loss: 0.4237 - val_accuracy: 0.7347\n",
            "Epoch 19/100\n",
            "20/20 [==============================] - 0s 3ms/step - loss: 0.4313 - accuracy: 0.8135 - val_loss: 1.1674 - val_accuracy: 0.6327\n",
            "Epoch 20/100\n",
            "20/20 [==============================] - 0s 2ms/step - loss: 0.4461 - accuracy: 0.8187 - val_loss: 0.4196 - val_accuracy: 0.7959\n",
            "Epoch 21/100\n",
            "20/20 [==============================] - 0s 3ms/step - loss: 0.4477 - accuracy: 0.8187 - val_loss: 0.3990 - val_accuracy: 0.8163\n",
            "Epoch 22/100\n",
            "20/20 [==============================] - 0s 3ms/step - loss: 0.4518 - accuracy: 0.7772 - val_loss: 0.4279 - val_accuracy: 0.8367\n",
            "Epoch 23/100\n",
            "20/20 [==============================] - 0s 2ms/step - loss: 0.4054 - accuracy: 0.7876 - val_loss: 0.4755 - val_accuracy: 0.7551\n",
            "Epoch 24/100\n",
            "20/20 [==============================] - 0s 2ms/step - loss: 0.4648 - accuracy: 0.7824 - val_loss: 0.3503 - val_accuracy: 0.8163\n",
            "Epoch 25/100\n",
            "20/20 [==============================] - 0s 3ms/step - loss: 0.3999 - accuracy: 0.8031 - val_loss: 0.5809 - val_accuracy: 0.7143\n",
            "Epoch 26/100\n",
            "20/20 [==============================] - 0s 2ms/step - loss: 0.4464 - accuracy: 0.7772 - val_loss: 0.4330 - val_accuracy: 0.8367\n",
            "Epoch 27/100\n",
            "20/20 [==============================] - 0s 3ms/step - loss: 0.4464 - accuracy: 0.7720 - val_loss: 0.3552 - val_accuracy: 0.8163\n",
            "Epoch 28/100\n",
            "20/20 [==============================] - 0s 3ms/step - loss: 0.4233 - accuracy: 0.8031 - val_loss: 0.6405 - val_accuracy: 0.7551\n",
            "Epoch 29/100\n",
            "20/20 [==============================] - 0s 3ms/step - loss: 0.4295 - accuracy: 0.7979 - val_loss: 0.4387 - val_accuracy: 0.7959\n",
            "Epoch 30/100\n",
            "20/20 [==============================] - 0s 2ms/step - loss: 0.4685 - accuracy: 0.7513 - val_loss: 0.3591 - val_accuracy: 0.8163\n",
            "Epoch 31/100\n",
            "20/20 [==============================] - 0s 2ms/step - loss: 0.4145 - accuracy: 0.7927 - val_loss: 0.4482 - val_accuracy: 0.7551\n",
            "Epoch 32/100\n",
            "20/20 [==============================] - 0s 2ms/step - loss: 0.4284 - accuracy: 0.7927 - val_loss: 0.4350 - val_accuracy: 0.7755\n",
            "Epoch 33/100\n",
            "20/20 [==============================] - 0s 4ms/step - loss: 0.4632 - accuracy: 0.7461 - val_loss: 0.3765 - val_accuracy: 0.8367\n",
            "Epoch 34/100\n",
            "20/20 [==============================] - 0s 3ms/step - loss: 0.4189 - accuracy: 0.7979 - val_loss: 0.4370 - val_accuracy: 0.8163\n",
            "Epoch 35/100\n",
            "20/20 [==============================] - 0s 3ms/step - loss: 0.4177 - accuracy: 0.8238 - val_loss: 0.5804 - val_accuracy: 0.7551\n",
            "Epoch 36/100\n",
            "20/20 [==============================] - 0s 4ms/step - loss: 0.4158 - accuracy: 0.8290 - val_loss: 1.1072 - val_accuracy: 0.5306\n",
            "Epoch 37/100\n",
            "20/20 [==============================] - 0s 4ms/step - loss: 0.4527 - accuracy: 0.7565 - val_loss: 1.0891 - val_accuracy: 0.5510\n",
            "Epoch 38/100\n",
            "20/20 [==============================] - 0s 3ms/step - loss: 0.4185 - accuracy: 0.7979 - val_loss: 0.8426 - val_accuracy: 0.5918\n",
            "Epoch 39/100\n",
            "20/20 [==============================] - 0s 4ms/step - loss: 0.4483 - accuracy: 0.7720 - val_loss: 0.4918 - val_accuracy: 0.8163\n",
            "Epoch 40/100\n",
            "20/20 [==============================] - 0s 3ms/step - loss: 0.4502 - accuracy: 0.7720 - val_loss: 0.4751 - val_accuracy: 0.7551\n",
            "Epoch 41/100\n",
            "20/20 [==============================] - 0s 4ms/step - loss: 0.4217 - accuracy: 0.7927 - val_loss: 0.9055 - val_accuracy: 0.5510\n",
            "Epoch 42/100\n",
            "20/20 [==============================] - 0s 4ms/step - loss: 0.4626 - accuracy: 0.7824 - val_loss: 0.4577 - val_accuracy: 0.7959\n",
            "Epoch 43/100\n",
            "20/20 [==============================] - 0s 3ms/step - loss: 0.3981 - accuracy: 0.8031 - val_loss: 0.8991 - val_accuracy: 0.6531\n",
            "Epoch 44/100\n",
            "20/20 [==============================] - 0s 4ms/step - loss: 0.4840 - accuracy: 0.7772 - val_loss: 0.9293 - val_accuracy: 0.5306\n",
            "Epoch 45/100\n",
            "20/20 [==============================] - 0s 3ms/step - loss: 0.4448 - accuracy: 0.7668 - val_loss: 0.4034 - val_accuracy: 0.7755\n",
            "Epoch 46/100\n",
            "20/20 [==============================] - 0s 4ms/step - loss: 0.4086 - accuracy: 0.8135 - val_loss: 0.3345 - val_accuracy: 0.8367\n",
            "Epoch 47/100\n",
            "20/20 [==============================] - 0s 4ms/step - loss: 0.4151 - accuracy: 0.7979 - val_loss: 0.3541 - val_accuracy: 0.8367\n",
            "Epoch 48/100\n",
            "20/20 [==============================] - 0s 3ms/step - loss: 0.4161 - accuracy: 0.8135 - val_loss: 0.3557 - val_accuracy: 0.8163\n",
            "Epoch 49/100\n",
            "20/20 [==============================] - 0s 3ms/step - loss: 0.4560 - accuracy: 0.7876 - val_loss: 0.5791 - val_accuracy: 0.7551\n",
            "Epoch 50/100\n",
            "20/20 [==============================] - 0s 3ms/step - loss: 0.4335 - accuracy: 0.8135 - val_loss: 0.3104 - val_accuracy: 0.8980\n",
            "Epoch 51/100\n",
            "20/20 [==============================] - 0s 3ms/step - loss: 0.3858 - accuracy: 0.8238 - val_loss: 0.6600 - val_accuracy: 0.7551\n",
            "Epoch 52/100\n",
            "20/20 [==============================] - 0s 4ms/step - loss: 0.4183 - accuracy: 0.8187 - val_loss: 0.6502 - val_accuracy: 0.7347\n",
            "Epoch 53/100\n",
            "20/20 [==============================] - 0s 3ms/step - loss: 0.4699 - accuracy: 0.7565 - val_loss: 0.3471 - val_accuracy: 0.8571\n",
            "Epoch 54/100\n",
            "20/20 [==============================] - 0s 3ms/step - loss: 0.4166 - accuracy: 0.8290 - val_loss: 0.6494 - val_accuracy: 0.6122\n",
            "Epoch 55/100\n",
            "20/20 [==============================] - 0s 4ms/step - loss: 0.4278 - accuracy: 0.7772 - val_loss: 0.7784 - val_accuracy: 0.6939\n",
            "Epoch 56/100\n",
            "20/20 [==============================] - 0s 3ms/step - loss: 0.4361 - accuracy: 0.8187 - val_loss: 0.7218 - val_accuracy: 0.6531\n",
            "Epoch 57/100\n",
            "20/20 [==============================] - 0s 3ms/step - loss: 0.4256 - accuracy: 0.8031 - val_loss: 0.4600 - val_accuracy: 0.7347\n",
            "Epoch 58/100\n",
            "20/20 [==============================] - 0s 3ms/step - loss: 0.4147 - accuracy: 0.7979 - val_loss: 0.6759 - val_accuracy: 0.7143\n",
            "Epoch 59/100\n",
            "20/20 [==============================] - 0s 4ms/step - loss: 0.4006 - accuracy: 0.8135 - val_loss: 0.4418 - val_accuracy: 0.7959\n",
            "Epoch 60/100\n",
            "20/20 [==============================] - 0s 4ms/step - loss: 0.4611 - accuracy: 0.7772 - val_loss: 0.5556 - val_accuracy: 0.7755\n",
            "Epoch 61/100\n",
            "20/20 [==============================] - 0s 4ms/step - loss: 0.4232 - accuracy: 0.7979 - val_loss: 0.7118 - val_accuracy: 0.6735\n",
            "Epoch 62/100\n",
            "20/20 [==============================] - 0s 3ms/step - loss: 0.4328 - accuracy: 0.7824 - val_loss: 0.4209 - val_accuracy: 0.8367\n",
            "Epoch 63/100\n",
            "20/20 [==============================] - 0s 2ms/step - loss: 0.4122 - accuracy: 0.8238 - val_loss: 0.4101 - val_accuracy: 0.7755\n",
            "Epoch 64/100\n",
            "20/20 [==============================] - 0s 4ms/step - loss: 0.3829 - accuracy: 0.8238 - val_loss: 0.4491 - val_accuracy: 0.7959\n",
            "Epoch 65/100\n",
            "20/20 [==============================] - 0s 3ms/step - loss: 0.4211 - accuracy: 0.8187 - val_loss: 0.3881 - val_accuracy: 0.7959\n",
            "Epoch 66/100\n",
            "20/20 [==============================] - 0s 3ms/step - loss: 0.4181 - accuracy: 0.8083 - val_loss: 0.3966 - val_accuracy: 0.8163\n",
            "Epoch 67/100\n",
            "20/20 [==============================] - 0s 2ms/step - loss: 0.4426 - accuracy: 0.7824 - val_loss: 0.6179 - val_accuracy: 0.7755\n",
            "Epoch 68/100\n",
            "20/20 [==============================] - 0s 2ms/step - loss: 0.3954 - accuracy: 0.8083 - val_loss: 0.4025 - val_accuracy: 0.8367\n",
            "Epoch 69/100\n",
            "20/20 [==============================] - 0s 3ms/step - loss: 0.3885 - accuracy: 0.7979 - val_loss: 0.3542 - val_accuracy: 0.8776\n",
            "Epoch 70/100\n",
            "20/20 [==============================] - 0s 3ms/step - loss: 0.4132 - accuracy: 0.7979 - val_loss: 0.3961 - val_accuracy: 0.8367\n",
            "Epoch 71/100\n",
            "20/20 [==============================] - 0s 3ms/step - loss: 0.3844 - accuracy: 0.8394 - val_loss: 0.7445 - val_accuracy: 0.6939\n",
            "Epoch 72/100\n",
            "20/20 [==============================] - 0s 3ms/step - loss: 0.3970 - accuracy: 0.7979 - val_loss: 0.4617 - val_accuracy: 0.7959\n",
            "Epoch 73/100\n",
            "20/20 [==============================] - 0s 3ms/step - loss: 0.4398 - accuracy: 0.8031 - val_loss: 0.3551 - val_accuracy: 0.8163\n",
            "Epoch 74/100\n",
            "20/20 [==============================] - 0s 3ms/step - loss: 0.3875 - accuracy: 0.8342 - val_loss: 0.3775 - val_accuracy: 0.7959\n",
            "Epoch 75/100\n",
            "20/20 [==============================] - 0s 3ms/step - loss: 0.3845 - accuracy: 0.8394 - val_loss: 1.2729 - val_accuracy: 0.5306\n",
            "Epoch 76/100\n",
            "20/20 [==============================] - 0s 3ms/step - loss: 0.4273 - accuracy: 0.8031 - val_loss: 0.3973 - val_accuracy: 0.8367\n",
            "Epoch 77/100\n",
            "20/20 [==============================] - 0s 2ms/step - loss: 0.3921 - accuracy: 0.8135 - val_loss: 0.3197 - val_accuracy: 0.8163\n",
            "Epoch 78/100\n",
            "20/20 [==============================] - 0s 3ms/step - loss: 0.4276 - accuracy: 0.7979 - val_loss: 0.6241 - val_accuracy: 0.6531\n",
            "Epoch 79/100\n",
            "20/20 [==============================] - 0s 3ms/step - loss: 0.3891 - accuracy: 0.8083 - val_loss: 0.4230 - val_accuracy: 0.8163\n",
            "Epoch 80/100\n",
            "20/20 [==============================] - 0s 4ms/step - loss: 0.3703 - accuracy: 0.8238 - val_loss: 0.3301 - val_accuracy: 0.8776\n",
            "Epoch 81/100\n",
            "20/20 [==============================] - 0s 3ms/step - loss: 0.3753 - accuracy: 0.8031 - val_loss: 0.3731 - val_accuracy: 0.8163\n",
            "Epoch 82/100\n",
            "20/20 [==============================] - 0s 3ms/step - loss: 0.4088 - accuracy: 0.8290 - val_loss: 0.4905 - val_accuracy: 0.7755\n",
            "Epoch 83/100\n",
            "20/20 [==============================] - 0s 3ms/step - loss: 0.4336 - accuracy: 0.7824 - val_loss: 0.5055 - val_accuracy: 0.7959\n",
            "Epoch 84/100\n",
            "20/20 [==============================] - 0s 4ms/step - loss: 0.4020 - accuracy: 0.8446 - val_loss: 0.8678 - val_accuracy: 0.6735\n",
            "Epoch 85/100\n",
            "20/20 [==============================] - 0s 3ms/step - loss: 0.3798 - accuracy: 0.8549 - val_loss: 0.5581 - val_accuracy: 0.7551\n",
            "Epoch 86/100\n",
            "20/20 [==============================] - 0s 3ms/step - loss: 0.4338 - accuracy: 0.8083 - val_loss: 0.3818 - val_accuracy: 0.8163\n",
            "Epoch 87/100\n",
            "20/20 [==============================] - 0s 3ms/step - loss: 0.3746 - accuracy: 0.8290 - val_loss: 0.4243 - val_accuracy: 0.7755\n",
            "Epoch 88/100\n",
            "20/20 [==============================] - 0s 2ms/step - loss: 0.3814 - accuracy: 0.8394 - val_loss: 0.6130 - val_accuracy: 0.6735\n",
            "Epoch 89/100\n",
            "20/20 [==============================] - 0s 3ms/step - loss: 0.4019 - accuracy: 0.8342 - val_loss: 0.4113 - val_accuracy: 0.8163\n",
            "Epoch 90/100\n",
            "20/20 [==============================] - 0s 3ms/step - loss: 0.4074 - accuracy: 0.7979 - val_loss: 0.3584 - val_accuracy: 0.8367\n",
            "Epoch 91/100\n",
            "20/20 [==============================] - 0s 3ms/step - loss: 0.3968 - accuracy: 0.8031 - val_loss: 0.5354 - val_accuracy: 0.7551\n",
            "Epoch 92/100\n",
            "20/20 [==============================] - 0s 3ms/step - loss: 0.3702 - accuracy: 0.8446 - val_loss: 0.8604 - val_accuracy: 0.5714\n",
            "Epoch 93/100\n",
            "20/20 [==============================] - 0s 2ms/step - loss: 0.3902 - accuracy: 0.8290 - val_loss: 0.4568 - val_accuracy: 0.8163\n",
            "Epoch 94/100\n",
            "20/20 [==============================] - 0s 3ms/step - loss: 0.4037 - accuracy: 0.7876 - val_loss: 0.5238 - val_accuracy: 0.7755\n",
            "Epoch 95/100\n",
            "20/20 [==============================] - 0s 3ms/step - loss: 0.4265 - accuracy: 0.7979 - val_loss: 0.5731 - val_accuracy: 0.7755\n",
            "Epoch 96/100\n",
            "20/20 [==============================] - 0s 3ms/step - loss: 0.3817 - accuracy: 0.8290 - val_loss: 0.5779 - val_accuracy: 0.7143\n",
            "Epoch 97/100\n",
            "20/20 [==============================] - 0s 3ms/step - loss: 0.4174 - accuracy: 0.7979 - val_loss: 0.5222 - val_accuracy: 0.7551\n",
            "Epoch 98/100\n",
            "20/20 [==============================] - 0s 3ms/step - loss: 0.3955 - accuracy: 0.7772 - val_loss: 0.3662 - val_accuracy: 0.8367\n",
            "Epoch 99/100\n",
            "20/20 [==============================] - 0s 2ms/step - loss: 0.3745 - accuracy: 0.8187 - val_loss: 0.6966 - val_accuracy: 0.6939\n",
            "Epoch 100/100\n",
            "20/20 [==============================] - 0s 3ms/step - loss: 0.4296 - accuracy: 0.7876 - val_loss: 0.3997 - val_accuracy: 0.8163\n"
          ],
          "name": "stdout"
        }
      ]
    },
    {
      "cell_type": "code",
      "metadata": {
        "colab": {
          "base_uri": "https://localhost:8080/"
        },
        "id": "hrohaS9b-TA5",
        "outputId": "8ffc3ba1-9a87-4ddb-c3f5-dc58d94bcd1f"
      },
      "source": [
        "# Evaluate the model\n",
        "model.evaluate(X_test, Y_test)"
      ],
      "execution_count": 17,
      "outputs": [
        {
          "output_type": "stream",
          "text": [
            "2/2 [==============================] - 0s 10ms/step - loss: 0.3801 - accuracy: 0.8852\n"
          ],
          "name": "stdout"
        },
        {
          "output_type": "execute_result",
          "data": {
            "text/plain": [
              "[0.3800618648529053, 0.8852459192276001]"
            ]
          },
          "metadata": {
            "tags": []
          },
          "execution_count": 17
        }
      ]
    },
    {
      "cell_type": "code",
      "metadata": {
        "id": "yTtkExtO-nWB"
      },
      "source": [
        ""
      ],
      "execution_count": null,
      "outputs": []
    }
  ]
}