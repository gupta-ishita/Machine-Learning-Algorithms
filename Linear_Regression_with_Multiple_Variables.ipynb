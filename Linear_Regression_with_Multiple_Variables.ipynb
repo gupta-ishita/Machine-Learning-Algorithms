{
  "nbformat": 4,
  "nbformat_minor": 0,
  "metadata": {
    "colab": {
      "name": "Linear Regression with Multiple Variables.ipynb",
      "provenance": [],
      "collapsed_sections": [],
      "toc_visible": true,
      "authorship_tag": "ABX9TyN6dQdu31zTqq2UvFtSkwJU"
    },
    "kernelspec": {
      "name": "python3",
      "display_name": "Python 3"
    },
    "language_info": {
      "name": "python"
    }
  },
  "cells": [
    {
      "cell_type": "code",
      "metadata": {
        "id": "cpDXfXALaYWy"
      },
      "source": [
        "# Import Dependencies\n",
        "import numpy as np\n",
        "import pandas as pd\n",
        "import matplotlib.pyplot as plt"
      ],
      "execution_count": null,
      "outputs": []
    },
    {
      "cell_type": "code",
      "metadata": {
        "colab": {
          "base_uri": "https://localhost:8080/",
          "height": 204
        },
        "id": "mPAn_kycavBX",
        "outputId": "7ad4e468-661e-4332-f80b-fca007e8615b"
      },
      "source": [
        "# Load boston housing dataset\n",
        "data = pd.read_csv(\"https://raw.githubusercontent.com/dphi-official/Datasets/master/Boston_Housing/Training_set_boston.csv\" )\n",
        "data.head()"
      ],
      "execution_count": null,
      "outputs": [
        {
          "output_type": "execute_result",
          "data": {
            "text/html": [
              "<div>\n",
              "<style scoped>\n",
              "    .dataframe tbody tr th:only-of-type {\n",
              "        vertical-align: middle;\n",
              "    }\n",
              "\n",
              "    .dataframe tbody tr th {\n",
              "        vertical-align: top;\n",
              "    }\n",
              "\n",
              "    .dataframe thead th {\n",
              "        text-align: right;\n",
              "    }\n",
              "</style>\n",
              "<table border=\"1\" class=\"dataframe\">\n",
              "  <thead>\n",
              "    <tr style=\"text-align: right;\">\n",
              "      <th></th>\n",
              "      <th>CRIM</th>\n",
              "      <th>ZN</th>\n",
              "      <th>INDUS</th>\n",
              "      <th>CHAS</th>\n",
              "      <th>NOX</th>\n",
              "      <th>RM</th>\n",
              "      <th>AGE</th>\n",
              "      <th>DIS</th>\n",
              "      <th>RAD</th>\n",
              "      <th>TAX</th>\n",
              "      <th>PTRATIO</th>\n",
              "      <th>B</th>\n",
              "      <th>LSTAT</th>\n",
              "      <th>MEDV</th>\n",
              "    </tr>\n",
              "  </thead>\n",
              "  <tbody>\n",
              "    <tr>\n",
              "      <th>0</th>\n",
              "      <td>15.02340</td>\n",
              "      <td>0.0</td>\n",
              "      <td>18.10</td>\n",
              "      <td>0.0</td>\n",
              "      <td>0.6140</td>\n",
              "      <td>5.304</td>\n",
              "      <td>97.3</td>\n",
              "      <td>2.1007</td>\n",
              "      <td>24.0</td>\n",
              "      <td>666.0</td>\n",
              "      <td>20.2</td>\n",
              "      <td>349.48</td>\n",
              "      <td>24.91</td>\n",
              "      <td>12.0</td>\n",
              "    </tr>\n",
              "    <tr>\n",
              "      <th>1</th>\n",
              "      <td>0.62739</td>\n",
              "      <td>0.0</td>\n",
              "      <td>8.14</td>\n",
              "      <td>0.0</td>\n",
              "      <td>0.5380</td>\n",
              "      <td>5.834</td>\n",
              "      <td>56.5</td>\n",
              "      <td>4.4986</td>\n",
              "      <td>4.0</td>\n",
              "      <td>307.0</td>\n",
              "      <td>21.0</td>\n",
              "      <td>395.62</td>\n",
              "      <td>8.47</td>\n",
              "      <td>19.9</td>\n",
              "    </tr>\n",
              "    <tr>\n",
              "      <th>2</th>\n",
              "      <td>0.03466</td>\n",
              "      <td>35.0</td>\n",
              "      <td>6.06</td>\n",
              "      <td>0.0</td>\n",
              "      <td>0.4379</td>\n",
              "      <td>6.031</td>\n",
              "      <td>23.3</td>\n",
              "      <td>6.6407</td>\n",
              "      <td>1.0</td>\n",
              "      <td>304.0</td>\n",
              "      <td>16.9</td>\n",
              "      <td>362.25</td>\n",
              "      <td>7.83</td>\n",
              "      <td>19.4</td>\n",
              "    </tr>\n",
              "    <tr>\n",
              "      <th>3</th>\n",
              "      <td>7.05042</td>\n",
              "      <td>0.0</td>\n",
              "      <td>18.10</td>\n",
              "      <td>0.0</td>\n",
              "      <td>0.6140</td>\n",
              "      <td>6.103</td>\n",
              "      <td>85.1</td>\n",
              "      <td>2.0218</td>\n",
              "      <td>24.0</td>\n",
              "      <td>666.0</td>\n",
              "      <td>20.2</td>\n",
              "      <td>2.52</td>\n",
              "      <td>23.29</td>\n",
              "      <td>13.4</td>\n",
              "    </tr>\n",
              "    <tr>\n",
              "      <th>4</th>\n",
              "      <td>0.72580</td>\n",
              "      <td>0.0</td>\n",
              "      <td>8.14</td>\n",
              "      <td>0.0</td>\n",
              "      <td>0.5380</td>\n",
              "      <td>5.727</td>\n",
              "      <td>69.5</td>\n",
              "      <td>3.7965</td>\n",
              "      <td>4.0</td>\n",
              "      <td>307.0</td>\n",
              "      <td>21.0</td>\n",
              "      <td>390.95</td>\n",
              "      <td>11.28</td>\n",
              "      <td>18.2</td>\n",
              "    </tr>\n",
              "  </tbody>\n",
              "</table>\n",
              "</div>"
            ],
            "text/plain": [
              "       CRIM    ZN  INDUS  CHAS     NOX  ...    TAX  PTRATIO       B  LSTAT  MEDV\n",
              "0  15.02340   0.0  18.10   0.0  0.6140  ...  666.0     20.2  349.48  24.91  12.0\n",
              "1   0.62739   0.0   8.14   0.0  0.5380  ...  307.0     21.0  395.62   8.47  19.9\n",
              "2   0.03466  35.0   6.06   0.0  0.4379  ...  304.0     16.9  362.25   7.83  19.4\n",
              "3   7.05042   0.0  18.10   0.0  0.6140  ...  666.0     20.2    2.52  23.29  13.4\n",
              "4   0.72580   0.0   8.14   0.0  0.5380  ...  307.0     21.0  390.95  11.28  18.2\n",
              "\n",
              "[5 rows x 14 columns]"
            ]
          },
          "metadata": {
            "tags": []
          },
          "execution_count": 2
        }
      ]
    },
    {
      "cell_type": "markdown",
      "metadata": {
        "id": "En6slvBKa9VM"
      },
      "source": [
        "# About the dataset\n",
        "CRIM: per capita crime rate by town <br>\n",
        "ZN: proportion of residential land zoned for lots over 25,000 sq.ft.<br>\n",
        "INDUS: proportion of non-retail business acres per town<br>\n",
        "CHAS: Charles River dummy variable (= 1 if tract bounds river; 0 otherwise)<br>\n",
        "NOX: nitric oxides concentration (parts per 10 million)<br>\n",
        "RM: average number of rooms per dwelling<br>\n",
        "AGE: proportion of owner-occupied units built prior to 1940<br>\n",
        "DIS: weighted distances to five Boston employment centres<br>\n",
        "RAD: index of accessibility to radial highways<br>\n",
        "TAX: full-value property-tax rate per 10,000 USD<br>\n",
        "PTRATIO: pupil-teacher ratio by town<br>\n",
        "B: 1000(Bk - 0.63)^2 where Bk is the proportion of blacks by town<br>\n",
        "LSTAT: lower status of the population (%)<br>\n",
        "MEDV: Median value of owner-occupied homes in 1000 USD's (Output/Target)<br>"
      ]
    },
    {
      "cell_type": "code",
      "metadata": {
        "id": "Oq29-LWqbY1c"
      },
      "source": [
        "X = data.drop('MEDV', axis = 1) # Input Variables\n",
        "Y = data.MEDV                   # Output variable"
      ],
      "execution_count": null,
      "outputs": []
    },
    {
      "cell_type": "code",
      "metadata": {
        "id": "qSW_4Hm8bp7i"
      },
      "source": [
        "# Split the dataset\n",
        "from sklearn.model_selection import train_test_split\n",
        "X_train, X_test, Y_train, Y_test = train_test_split(X, Y, test_size=0.2, random_state=42)"
      ],
      "execution_count": null,
      "outputs": []
    },
    {
      "cell_type": "code",
      "metadata": {
        "colab": {
          "base_uri": "https://localhost:8080/"
        },
        "id": "-oXSjtBRc3fz",
        "outputId": "728433c2-5f5f-4f8f-c9f5-893b67ece808"
      },
      "source": [
        "print(X.shape, X_train.shape, X_test.shape)"
      ],
      "execution_count": null,
      "outputs": [
        {
          "output_type": "stream",
          "text": [
            "(404, 13) (323, 13) (81, 13)\n"
          ],
          "name": "stdout"
        }
      ]
    },
    {
      "cell_type": "code",
      "metadata": {
        "colab": {
          "base_uri": "https://localhost:8080/"
        },
        "id": "f3yxx-ygfIXZ",
        "outputId": "cdf0d785-6e19-4541-de5d-fe16559a840d"
      },
      "source": [
        "n_features = X.shape[1]\n",
        "print(n_features)"
      ],
      "execution_count": null,
      "outputs": [
        {
          "output_type": "stream",
          "text": [
            "13\n"
          ],
          "name": "stdout"
        }
      ]
    },
    {
      "cell_type": "code",
      "metadata": {
        "id": "D7fzPNXnc74F"
      },
      "source": [
        "from tensorflow.keras import Sequential\n",
        "from tensorflow.keras.layers import Dense\n",
        "from numpy.random import seed\n",
        "import tensorflow"
      ],
      "execution_count": null,
      "outputs": []
    },
    {
      "cell_type": "code",
      "metadata": {
        "id": "ZrWwo5sZd3lZ"
      },
      "source": [
        "# Define the model\n",
        "model = Sequential()\n",
        "model.add(Dense(10, activation='relu', input_shape=(n_features,)))\n",
        "model.add(Dense(8, activation='relu'))\n",
        "model.add(Dense(1))"
      ],
      "execution_count": null,
      "outputs": []
    },
    {
      "cell_type": "code",
      "metadata": {
        "id": "oTE2VqjYfU8Y"
      },
      "source": [
        "# Using RMSprop as optimizer function\n",
        "from tensorflow.keras.optimizers import RMSprop\n",
        "optimizer = RMSprop(0.001) # Here, 0.01 is learning rate "
      ],
      "execution_count": null,
      "outputs": []
    },
    {
      "cell_type": "code",
      "metadata": {
        "id": "P4cJhnUTho4Q"
      },
      "source": [
        "# Compile model\n",
        "model.compile(loss='mean_squared_error', optimizer=optimizer)"
      ],
      "execution_count": null,
      "outputs": []
    },
    {
      "cell_type": "code",
      "metadata": {
        "colab": {
          "base_uri": "https://localhost:8080/"
        },
        "id": "-NpahEFymwbx",
        "outputId": "20b8a467-6acd-479e-bc58-48f0a05cfa83"
      },
      "source": [
        "seed_value = 42\n",
        "seed(seed_value) # If we build the model with given parameters, set_random_seed will help to produce the same result on multiple execution\n",
        "\n",
        "# 1. Set `PYTHONHASHSEED` environment variable at a fixed value\n",
        "import os\n",
        "os.environ['PYTHONHASHSEED']=str(seed_value)\n",
        "\n",
        "# 2. Set `python` built-in pseudo-random generator at a fixed value\n",
        "import random\n",
        "random.seed(seed_value)\n",
        "\n",
        "# 3. Set `numpy` pseudo-random generator at a fixed value\n",
        "import numpy as np\n",
        "np.random.seed(seed_value)\n",
        "\n",
        "# 4. Set the `tensorflow` pseudo-random generator at a fixed value\n",
        "tensorflow.random.set_seed(seed_value)\n",
        "model.fit(X_train, Y_train, epochs=50, batch_size=30, verbose = 1) # fit the model"
      ],
      "execution_count": null,
      "outputs": [
        {
          "output_type": "stream",
          "text": [
            "Epoch 1/50\n",
            "11/11 [==============================] - 1s 1ms/step - loss: 327.6848\n",
            "Epoch 2/50\n",
            "11/11 [==============================] - 0s 1ms/step - loss: 231.3937\n",
            "Epoch 3/50\n",
            "11/11 [==============================] - 0s 2ms/step - loss: 192.3223\n",
            "Epoch 4/50\n",
            "11/11 [==============================] - 0s 2ms/step - loss: 164.8398\n",
            "Epoch 5/50\n",
            "11/11 [==============================] - 0s 2ms/step - loss: 144.0767\n",
            "Epoch 6/50\n",
            "11/11 [==============================] - 0s 2ms/step - loss: 126.2904\n",
            "Epoch 7/50\n",
            "11/11 [==============================] - 0s 2ms/step - loss: 111.4100\n",
            "Epoch 8/50\n",
            "11/11 [==============================] - 0s 2ms/step - loss: 99.5072\n",
            "Epoch 9/50\n",
            "11/11 [==============================] - 0s 2ms/step - loss: 88.4120\n",
            "Epoch 10/50\n",
            "11/11 [==============================] - 0s 2ms/step - loss: 81.8470\n",
            "Epoch 11/50\n",
            "11/11 [==============================] - 0s 2ms/step - loss: 74.4335\n",
            "Epoch 12/50\n",
            "11/11 [==============================] - 0s 1ms/step - loss: 70.7328\n",
            "Epoch 13/50\n",
            "11/11 [==============================] - 0s 2ms/step - loss: 66.5101\n",
            "Epoch 14/50\n",
            "11/11 [==============================] - 0s 2ms/step - loss: 66.0514\n",
            "Epoch 15/50\n",
            "11/11 [==============================] - 0s 2ms/step - loss: 63.8222\n",
            "Epoch 16/50\n",
            "11/11 [==============================] - 0s 2ms/step - loss: 62.4021\n",
            "Epoch 17/50\n",
            "11/11 [==============================] - 0s 2ms/step - loss: 60.6985\n",
            "Epoch 18/50\n",
            "11/11 [==============================] - 0s 2ms/step - loss: 60.6634\n",
            "Epoch 19/50\n",
            "11/11 [==============================] - 0s 2ms/step - loss: 60.6807\n",
            "Epoch 20/50\n",
            "11/11 [==============================] - 0s 2ms/step - loss: 59.4422\n",
            "Epoch 21/50\n",
            "11/11 [==============================] - 0s 2ms/step - loss: 58.5857\n",
            "Epoch 22/50\n",
            "11/11 [==============================] - 0s 2ms/step - loss: 57.4943\n",
            "Epoch 23/50\n",
            "11/11 [==============================] - 0s 2ms/step - loss: 57.6671\n",
            "Epoch 24/50\n",
            "11/11 [==============================] - 0s 1ms/step - loss: 56.3566\n",
            "Epoch 25/50\n",
            "11/11 [==============================] - 0s 2ms/step - loss: 56.6543\n",
            "Epoch 26/50\n",
            "11/11 [==============================] - 0s 2ms/step - loss: 55.0042\n",
            "Epoch 27/50\n",
            "11/11 [==============================] - 0s 2ms/step - loss: 54.8657\n",
            "Epoch 28/50\n",
            "11/11 [==============================] - 0s 2ms/step - loss: 56.4542\n",
            "Epoch 29/50\n",
            "11/11 [==============================] - 0s 2ms/step - loss: 53.8428\n",
            "Epoch 30/50\n",
            "11/11 [==============================] - 0s 2ms/step - loss: 53.8664\n",
            "Epoch 31/50\n",
            "11/11 [==============================] - 0s 2ms/step - loss: 52.2514\n",
            "Epoch 32/50\n",
            "11/11 [==============================] - 0s 2ms/step - loss: 52.4799\n",
            "Epoch 33/50\n",
            "11/11 [==============================] - 0s 2ms/step - loss: 52.2940\n",
            "Epoch 34/50\n",
            "11/11 [==============================] - 0s 2ms/step - loss: 51.3841\n",
            "Epoch 35/50\n",
            "11/11 [==============================] - 0s 2ms/step - loss: 52.5688\n",
            "Epoch 36/50\n",
            "11/11 [==============================] - 0s 2ms/step - loss: 50.9208\n",
            "Epoch 37/50\n",
            "11/11 [==============================] - 0s 1ms/step - loss: 51.1396\n",
            "Epoch 38/50\n",
            "11/11 [==============================] - 0s 1ms/step - loss: 49.4617\n",
            "Epoch 39/50\n",
            "11/11 [==============================] - 0s 2ms/step - loss: 49.2436\n",
            "Epoch 40/50\n",
            "11/11 [==============================] - 0s 2ms/step - loss: 49.1423\n",
            "Epoch 41/50\n",
            "11/11 [==============================] - 0s 2ms/step - loss: 48.7856\n",
            "Epoch 42/50\n",
            "11/11 [==============================] - 0s 2ms/step - loss: 47.5973\n",
            "Epoch 43/50\n",
            "11/11 [==============================] - 0s 3ms/step - loss: 47.4332\n",
            "Epoch 44/50\n",
            "11/11 [==============================] - 0s 1ms/step - loss: 46.7296\n",
            "Epoch 45/50\n",
            "11/11 [==============================] - 0s 1ms/step - loss: 47.4639\n",
            "Epoch 46/50\n",
            "11/11 [==============================] - 0s 2ms/step - loss: 46.5422\n",
            "Epoch 47/50\n",
            "11/11 [==============================] - 0s 2ms/step - loss: 46.4293\n",
            "Epoch 48/50\n",
            "11/11 [==============================] - 0s 2ms/step - loss: 45.8291\n",
            "Epoch 49/50\n",
            "11/11 [==============================] - 0s 2ms/step - loss: 45.5505\n",
            "Epoch 50/50\n",
            "11/11 [==============================] - 0s 2ms/step - loss: 44.6250\n"
          ],
          "name": "stdout"
        },
        {
          "output_type": "execute_result",
          "data": {
            "text/plain": [
              "<tensorflow.python.keras.callbacks.History at 0x7f59e1161b50>"
            ]
          },
          "metadata": {
            "tags": []
          },
          "execution_count": 11
        }
      ]
    },
    {
      "cell_type": "code",
      "metadata": {
        "colab": {
          "base_uri": "https://localhost:8080/"
        },
        "id": "PN4Dbe1tjgqq",
        "outputId": "9094d736-6fa6-4831-f3a2-e807aceb7e7e"
      },
      "source": [
        "# Evaluate the model\n",
        "model.evaluate(X_test, Y_test)\n",
        "# This function finds predicted value, compares it to actual value and return RMSE"
      ],
      "execution_count": null,
      "outputs": [
        {
          "output_type": "stream",
          "text": [
            "3/3 [==============================] - 0s 4ms/step - loss: 34.0042\n"
          ],
          "name": "stdout"
        },
        {
          "output_type": "execute_result",
          "data": {
            "text/plain": [
              "34.00421905517578"
            ]
          },
          "metadata": {
            "tags": []
          },
          "execution_count": 12
        }
      ]
    },
    {
      "cell_type": "code",
      "metadata": {
        "id": "KrK1BCZIlNwi"
      },
      "source": [
        ""
      ],
      "execution_count": null,
      "outputs": []
    }
  ]
}